{
 "cells": [
  {
   "cell_type": "code",
   "execution_count": 1,
   "id": "d335a92f",
   "metadata": {},
   "outputs": [],
   "source": [
    "import sys\n",
    "import os\n",
    "\n",
    "import pandas as pd\n",
    "import numpy as np\n",
    "import matplotlib.pyplot as plt"
   ]
  },
  {
   "cell_type": "code",
   "execution_count": 2,
   "id": "5073c4bd",
   "metadata": {},
   "outputs": [
    {
     "name": "stdout",
     "output_type": "stream",
     "text": [
      "###Loading data step###\n",
      "C:\\Users\\andrey.starodumov\\Desktop\\uni\\PMLDL\\Assignments\\Assignment_01\\assig\\src\\data\\..\\..\\data\\external\n",
      "100% [........................................................................] 44376072 / 44376072###Splitting data into samples step###\n",
      "Reading the full data...\n",
      "Reconstructing the full data...\n",
      "Splitting the full data on test and train...\n",
      "Splitting the train data on val and train...\n",
      "Saving the train file...\n",
      "Saving the test file...\n",
      "Saving the validation file...\n",
      "Ready\n"
     ]
    }
   ],
   "source": [
    "%run -i {os.path.join(os.getcwd(), '..', 'src', 'data', 'make_dataset.py')}"
   ]
  },
  {
   "cell_type": "code",
   "execution_count": 2,
   "id": "7fdf6026",
   "metadata": {},
   "outputs": [],
   "source": [
    "sys.path.insert(0, os.path.join(os.getcwd(), '..', 'src', 'data'))"
   ]
  },
  {
   "cell_type": "code",
   "execution_count": 3,
   "id": "a27b69c0",
   "metadata": {},
   "outputs": [],
   "source": [
    "from make_dataset import LDataset, PDataset"
   ]
  },
  {
   "cell_type": "markdown",
   "id": "2a4e7c7c",
   "metadata": {},
   "source": [
    "# Downloading the file"
   ]
  },
  {
   "cell_type": "code",
   "execution_count": 5,
   "id": "7fe19087",
   "metadata": {},
   "outputs": [],
   "source": [
    "data_load = LDataset()"
   ]
  },
  {
   "cell_type": "code",
   "execution_count": 6,
   "id": "9df5547a",
   "metadata": {},
   "outputs": [
    {
     "name": "stdout",
     "output_type": "stream",
     "text": [
      "C:\\Users\\andrey.starodumov\\Desktop\\uni\\PMLDL\\Assignments\\Assignment_01\\assig\\src\\data\\..\\..\\data\\external\n",
      "100% [........................................................................] 44376072 / 44376072"
     ]
    }
   ],
   "source": [
    "data_load.load_data()"
   ]
  },
  {
   "cell_type": "code",
   "execution_count": 6,
   "id": "1873b5a1",
   "metadata": {},
   "outputs": [],
   "source": [
    "data_load.unzip_data()"
   ]
  },
  {
   "cell_type": "markdown",
   "id": "246be404",
   "metadata": {},
   "source": [
    "# Creating the split\n"
   ]
  },
  {
   "cell_type": "code",
   "execution_count": 4,
   "id": "65fe74a5",
   "metadata": {},
   "outputs": [],
   "source": [
    "data_read = PDataset()"
   ]
  },
  {
   "cell_type": "code",
   "execution_count": 6,
   "id": "0e524688",
   "metadata": {
    "scrolled": true
   },
   "outputs": [
    {
     "name": "stdout",
     "output_type": "stream",
     "text": [
      "Reading the full data...\n",
      "Reconstructing the full data...\n",
      "Splitting the full data on test and train...\n",
      "Splitting the train data on val and train...\n",
      "Saving the train file...\n",
      "Saving the test file...\n",
      "Saving the validation file...\n",
      "Ready\n"
     ]
    }
   ],
   "source": [
    "data_read.split_files()"
   ]
  },
  {
   "cell_type": "markdown",
   "id": "d8a73f92",
   "metadata": {},
   "source": [
    "# Explore"
   ]
  },
  {
   "cell_type": "code",
   "execution_count": 9,
   "id": "fd8e999c",
   "metadata": {},
   "outputs": [],
   "source": [
    "data = data_read.read_data()"
   ]
  },
  {
   "cell_type": "code",
   "execution_count": 10,
   "id": "364a426f",
   "metadata": {},
   "outputs": [
    {
     "data": {
      "text/html": [
       "<div>\n",
       "<style scoped>\n",
       "    .dataframe tbody tr th:only-of-type {\n",
       "        vertical-align: middle;\n",
       "    }\n",
       "\n",
       "    .dataframe tbody tr th {\n",
       "        vertical-align: top;\n",
       "    }\n",
       "\n",
       "    .dataframe thead th {\n",
       "        text-align: right;\n",
       "    }\n",
       "</style>\n",
       "<table border=\"1\" class=\"dataframe\">\n",
       "  <thead>\n",
       "    <tr style=\"text-align: right;\">\n",
       "      <th></th>\n",
       "      <th>reference</th>\n",
       "      <th>translation</th>\n",
       "      <th>similarity</th>\n",
       "      <th>lenght_diff</th>\n",
       "      <th>ref_tox</th>\n",
       "      <th>trn_tox</th>\n",
       "    </tr>\n",
       "  </thead>\n",
       "  <tbody>\n",
       "    <tr>\n",
       "      <th>0</th>\n",
       "      <td>If Alkar is flooding her with psychic waste, t...</td>\n",
       "      <td>if Alkar floods her with her mental waste, it ...</td>\n",
       "      <td>0.785171</td>\n",
       "      <td>0.010309</td>\n",
       "      <td>0.014195</td>\n",
       "      <td>0.981983</td>\n",
       "    </tr>\n",
       "    <tr>\n",
       "      <th>1</th>\n",
       "      <td>Now you're getting nasty.</td>\n",
       "      <td>you're becoming disgusting.</td>\n",
       "      <td>0.749687</td>\n",
       "      <td>0.071429</td>\n",
       "      <td>0.065473</td>\n",
       "      <td>0.999039</td>\n",
       "    </tr>\n",
       "    <tr>\n",
       "      <th>2</th>\n",
       "      <td>Well, we could spare your life, for one.</td>\n",
       "      <td>well, we can spare your life.</td>\n",
       "      <td>0.919051</td>\n",
       "      <td>0.268293</td>\n",
       "      <td>0.213313</td>\n",
       "      <td>0.985068</td>\n",
       "    </tr>\n",
       "    <tr>\n",
       "      <th>3</th>\n",
       "      <td>Ah! Monkey, you've got to snap out of it.</td>\n",
       "      <td>monkey, you have to wake up.</td>\n",
       "      <td>0.664333</td>\n",
       "      <td>0.309524</td>\n",
       "      <td>0.053362</td>\n",
       "      <td>0.994215</td>\n",
       "    </tr>\n",
       "    <tr>\n",
       "      <th>4</th>\n",
       "      <td>I've got orders to put her down.</td>\n",
       "      <td>I have orders to kill her.</td>\n",
       "      <td>0.726639</td>\n",
       "      <td>0.181818</td>\n",
       "      <td>0.009402</td>\n",
       "      <td>0.999348</td>\n",
       "    </tr>\n",
       "    <tr>\n",
       "      <th>...</th>\n",
       "      <td>...</td>\n",
       "      <td>...</td>\n",
       "      <td>...</td>\n",
       "      <td>...</td>\n",
       "      <td>...</td>\n",
       "      <td>...</td>\n",
       "    </tr>\n",
       "    <tr>\n",
       "      <th>577772</th>\n",
       "      <td>You didn't know that Estelle had stolen some f...</td>\n",
       "      <td>you didn't know that Estelle stole your fish f...</td>\n",
       "      <td>0.870322</td>\n",
       "      <td>0.030769</td>\n",
       "      <td>0.000121</td>\n",
       "      <td>0.949143</td>\n",
       "    </tr>\n",
       "    <tr>\n",
       "      <th>577773</th>\n",
       "      <td>It'il suck the life out of you!</td>\n",
       "      <td>you'd be sucked out of your life!</td>\n",
       "      <td>0.722897</td>\n",
       "      <td>0.058824</td>\n",
       "      <td>0.996124</td>\n",
       "      <td>0.215794</td>\n",
       "    </tr>\n",
       "    <tr>\n",
       "      <th>577774</th>\n",
       "      <td>I can't fuckin' take that, bruv.</td>\n",
       "      <td>I really can't take this.</td>\n",
       "      <td>0.617511</td>\n",
       "      <td>0.212121</td>\n",
       "      <td>0.984538</td>\n",
       "      <td>0.000049</td>\n",
       "    </tr>\n",
       "    <tr>\n",
       "      <th>577775</th>\n",
       "      <td>They called me a fucking hero. The truth is I ...</td>\n",
       "      <td>they said I was a hero, but I didn't care.</td>\n",
       "      <td>0.679613</td>\n",
       "      <td>0.358209</td>\n",
       "      <td>0.991945</td>\n",
       "      <td>0.000124</td>\n",
       "    </tr>\n",
       "    <tr>\n",
       "      <th>577776</th>\n",
       "      <td>I did not screw him.</td>\n",
       "      <td>I didn't fuck him.</td>\n",
       "      <td>0.868475</td>\n",
       "      <td>0.095238</td>\n",
       "      <td>0.009480</td>\n",
       "      <td>0.994174</td>\n",
       "    </tr>\n",
       "  </tbody>\n",
       "</table>\n",
       "<p>577777 rows × 6 columns</p>\n",
       "</div>"
      ],
      "text/plain": [
       "                                                reference  \\\n",
       "0       If Alkar is flooding her with psychic waste, t...   \n",
       "1                               Now you're getting nasty.   \n",
       "2                Well, we could spare your life, for one.   \n",
       "3               Ah! Monkey, you've got to snap out of it.   \n",
       "4                        I've got orders to put her down.   \n",
       "...                                                   ...   \n",
       "577772  You didn't know that Estelle had stolen some f...   \n",
       "577773                    It'il suck the life out of you!   \n",
       "577774                   I can't fuckin' take that, bruv.   \n",
       "577775  They called me a fucking hero. The truth is I ...   \n",
       "577776                               I did not screw him.   \n",
       "\n",
       "                                              translation  similarity  \\\n",
       "0       if Alkar floods her with her mental waste, it ...    0.785171   \n",
       "1                             you're becoming disgusting.    0.749687   \n",
       "2                           well, we can spare your life.    0.919051   \n",
       "3                            monkey, you have to wake up.    0.664333   \n",
       "4                              I have orders to kill her.    0.726639   \n",
       "...                                                   ...         ...   \n",
       "577772  you didn't know that Estelle stole your fish f...    0.870322   \n",
       "577773                  you'd be sucked out of your life!    0.722897   \n",
       "577774                          I really can't take this.    0.617511   \n",
       "577775         they said I was a hero, but I didn't care.    0.679613   \n",
       "577776                                 I didn't fuck him.    0.868475   \n",
       "\n",
       "        lenght_diff   ref_tox   trn_tox  \n",
       "0          0.010309  0.014195  0.981983  \n",
       "1          0.071429  0.065473  0.999039  \n",
       "2          0.268293  0.213313  0.985068  \n",
       "3          0.309524  0.053362  0.994215  \n",
       "4          0.181818  0.009402  0.999348  \n",
       "...             ...       ...       ...  \n",
       "577772     0.030769  0.000121  0.949143  \n",
       "577773     0.058824  0.996124  0.215794  \n",
       "577774     0.212121  0.984538  0.000049  \n",
       "577775     0.358209  0.991945  0.000124  \n",
       "577776     0.095238  0.009480  0.994174  \n",
       "\n",
       "[577777 rows x 6 columns]"
      ]
     },
     "execution_count": 10,
     "metadata": {},
     "output_type": "execute_result"
    }
   ],
   "source": [
    "data"
   ]
  },
  {
   "cell_type": "code",
   "execution_count": 8,
   "id": "436b1ec2",
   "metadata": {},
   "outputs": [
    {
     "name": "stdout",
     "output_type": "stream",
     "text": [
      "Translation toxity is greater that reference one in 0.4476381025897535%\n"
     ]
    }
   ],
   "source": [
    "# Check if all reference or translation are toxic or not\n",
    "print(f\"Translation toxity is greater that reference one in {len(data[data['ref_tox'] < data['trn_tox']]) / len(data)}%\")"
   ]
  },
  {
   "cell_type": "markdown",
   "id": "f6458607",
   "metadata": {},
   "source": [
    "It means that we do not need to consider the translation as a neutral one"
   ]
  },
  {
   "cell_type": "code",
   "execution_count": 14,
   "id": "5c8fe646",
   "metadata": {},
   "outputs": [
    {
     "data": {
      "text/html": [
       "<div>\n",
       "<style scoped>\n",
       "    .dataframe tbody tr th:only-of-type {\n",
       "        vertical-align: middle;\n",
       "    }\n",
       "\n",
       "    .dataframe tbody tr th {\n",
       "        vertical-align: top;\n",
       "    }\n",
       "\n",
       "    .dataframe thead th {\n",
       "        text-align: right;\n",
       "    }\n",
       "</style>\n",
       "<table border=\"1\" class=\"dataframe\">\n",
       "  <thead>\n",
       "    <tr style=\"text-align: right;\">\n",
       "      <th></th>\n",
       "      <th>toxic_sentence</th>\n",
       "      <th>neutral_sentence</th>\n",
       "      <th>toxic_tox</th>\n",
       "      <th>neutral_tox</th>\n",
       "      <th>similarity</th>\n",
       "    </tr>\n",
       "  </thead>\n",
       "  <tbody>\n",
       "    <tr>\n",
       "      <th>0</th>\n",
       "      <td>I'm not gonna have a child... ...with the same...</td>\n",
       "      <td>I'm not going to breed kids with a genetic dis...</td>\n",
       "      <td>0.950956</td>\n",
       "      <td>0.035846</td>\n",
       "      <td>0.703185</td>\n",
       "    </tr>\n",
       "    <tr>\n",
       "      <th>1</th>\n",
       "      <td>They're all laughing at us, so we'll kick your...</td>\n",
       "      <td>they're laughing at us. We'll show you.</td>\n",
       "      <td>0.999492</td>\n",
       "      <td>0.000131</td>\n",
       "      <td>0.618866</td>\n",
       "    </tr>\n",
       "    <tr>\n",
       "      <th>2</th>\n",
       "      <td>Maine was very short on black people back then.</td>\n",
       "      <td>there wasn't much black in Maine then.</td>\n",
       "      <td>0.96368</td>\n",
       "      <td>0.14871</td>\n",
       "      <td>0.720482</td>\n",
       "    </tr>\n",
       "    <tr>\n",
       "      <th>3</th>\n",
       "      <td>So now their spirits are cursed, walking back ...</td>\n",
       "      <td>their souls are cursed, they guard the paths, ...</td>\n",
       "      <td>0.842509</td>\n",
       "      <td>0.143992</td>\n",
       "      <td>0.755883</td>\n",
       "    </tr>\n",
       "    <tr>\n",
       "      <th>4</th>\n",
       "      <td>Come on, Cal, leave that shit alone.</td>\n",
       "      <td>come on, Cal, put it down.</td>\n",
       "      <td>0.999637</td>\n",
       "      <td>0.000279</td>\n",
       "      <td>0.660481</td>\n",
       "    </tr>\n",
       "    <tr>\n",
       "      <th>...</th>\n",
       "      <td>...</td>\n",
       "      <td>...</td>\n",
       "      <td>...</td>\n",
       "      <td>...</td>\n",
       "      <td>...</td>\n",
       "    </tr>\n",
       "    <tr>\n",
       "      <th>319137</th>\n",
       "      <td>I am so crazy nuts about you guys.</td>\n",
       "      <td>I'm so crazy about you guys.</td>\n",
       "      <td>0.973442</td>\n",
       "      <td>0.000709</td>\n",
       "      <td>0.934512</td>\n",
       "    </tr>\n",
       "    <tr>\n",
       "      <th>319138</th>\n",
       "      <td>I thought American men were bad enough, but no...</td>\n",
       "      <td>an American man is worth nothing, but for you,...</td>\n",
       "      <td>0.999624</td>\n",
       "      <td>0.035941</td>\n",
       "      <td>0.671444</td>\n",
       "    </tr>\n",
       "    <tr>\n",
       "      <th>319139</th>\n",
       "      <td>It'il suck the life out of you!</td>\n",
       "      <td>you'd be sucked out of your life!</td>\n",
       "      <td>0.996124</td>\n",
       "      <td>0.215794</td>\n",
       "      <td>0.722897</td>\n",
       "    </tr>\n",
       "    <tr>\n",
       "      <th>319140</th>\n",
       "      <td>I can't fuckin' take that, bruv.</td>\n",
       "      <td>I really can't take this.</td>\n",
       "      <td>0.984538</td>\n",
       "      <td>0.000049</td>\n",
       "      <td>0.617511</td>\n",
       "    </tr>\n",
       "    <tr>\n",
       "      <th>319141</th>\n",
       "      <td>They called me a fucking hero. The truth is I ...</td>\n",
       "      <td>they said I was a hero, but I didn't care.</td>\n",
       "      <td>0.991945</td>\n",
       "      <td>0.000124</td>\n",
       "      <td>0.679613</td>\n",
       "    </tr>\n",
       "  </tbody>\n",
       "</table>\n",
       "<p>319142 rows × 5 columns</p>\n",
       "</div>"
      ],
      "text/plain": [
       "                                           toxic_sentence  \\\n",
       "0       I'm not gonna have a child... ...with the same...   \n",
       "1       They're all laughing at us, so we'll kick your...   \n",
       "2         Maine was very short on black people back then.   \n",
       "3       So now their spirits are cursed, walking back ...   \n",
       "4                    Come on, Cal, leave that shit alone.   \n",
       "...                                                   ...   \n",
       "319137                 I am so crazy nuts about you guys.   \n",
       "319138  I thought American men were bad enough, but no...   \n",
       "319139                    It'il suck the life out of you!   \n",
       "319140                   I can't fuckin' take that, bruv.   \n",
       "319141  They called me a fucking hero. The truth is I ...   \n",
       "\n",
       "                                         neutral_sentence toxic_tox  \\\n",
       "0       I'm not going to breed kids with a genetic dis...  0.950956   \n",
       "1                 they're laughing at us. We'll show you.  0.999492   \n",
       "2                  there wasn't much black in Maine then.   0.96368   \n",
       "3       their souls are cursed, they guard the paths, ...  0.842509   \n",
       "4                              come on, Cal, put it down.  0.999637   \n",
       "...                                                   ...       ...   \n",
       "319137                       I'm so crazy about you guys.  0.973442   \n",
       "319138  an American man is worth nothing, but for you,...  0.999624   \n",
       "319139                  you'd be sucked out of your life!  0.996124   \n",
       "319140                          I really can't take this.  0.984538   \n",
       "319141         they said I was a hero, but I didn't care.  0.991945   \n",
       "\n",
       "       neutral_tox similarity  \n",
       "0         0.035846   0.703185  \n",
       "1         0.000131   0.618866  \n",
       "2          0.14871   0.720482  \n",
       "3         0.143992   0.755883  \n",
       "4         0.000279   0.660481  \n",
       "...            ...        ...  \n",
       "319137    0.000709   0.934512  \n",
       "319138    0.035941   0.671444  \n",
       "319139    0.215794   0.722897  \n",
       "319140    0.000049   0.617511  \n",
       "319141    0.000124   0.679613  \n",
       "\n",
       "[319142 rows x 5 columns]"
      ]
     },
     "execution_count": 14,
     "metadata": {},
     "output_type": "execute_result"
    }
   ],
   "source": [
    "row = data[data['ref_tox'] > data['trn_tox']]\n",
    "pd.DataFrame(\n",
    "                    row[['reference', 'translation', 'ref_tox', 'trn_tox', 'similarity']].values,\n",
    "                    columns=['toxic_sentence', 'neutral_sentence', 'toxic_tox', 'neutral_tox', 'similarity']\n",
    "                )"
   ]
  },
  {
   "cell_type": "code",
   "execution_count": null,
   "id": "18c308a5",
   "metadata": {},
   "outputs": [],
   "source": []
  },
  {
   "cell_type": "code",
   "execution_count": null,
   "id": "b7f6d567",
   "metadata": {},
   "outputs": [],
   "source": []
  },
  {
   "cell_type": "markdown",
   "id": "12d24625",
   "metadata": {},
   "source": [
    "# Getting pictures"
   ]
  },
  {
   "cell_type": "code",
   "execution_count": 30,
   "id": "6b242f20",
   "metadata": {},
   "outputs": [],
   "source": [
    "def save_figure(ax, ax_title, png_name, xlim=None):\n",
    "    ax.set_title(ax_title)\n",
    "    if xlim is not None:\n",
    "        ax.set_xlim(*xlim)\n",
    "    plt.savefig(f'{png_name}.png')"
   ]
  },
  {
   "cell_type": "markdown",
   "id": "c94b0f4b",
   "metadata": {},
   "source": [
    "### Similarity (to check the similarity with paraphrasing)"
   ]
  },
  {
   "cell_type": "code",
   "execution_count": 32,
   "id": "e6e9df48",
   "metadata": {
    "scrolled": false
   },
   "outputs": [
    {
     "data": {
      "image/png": "[encoded data removed]",
      "text/plain": [
       "<Figure size 640x480 with 1 Axes>"
      ]
     },
     "metadata": {},
     "output_type": "display_data"
    }
   ],
   "source": [
    "save_figure(data['similarity'].plot(kind='kde'),\n",
    "            'Similarity distribution',\n",
    "            png_name='similarity_distribution',\n",
    "            xlim=[min(data['similarity']), max(data['similarity'])])"
   ]
  },
  {
   "cell_type": "code",
   "execution_count": 19,
   "id": "e6fc4650",
   "metadata": {},
   "outputs": [
    {
     "data": {
      "text/plain": [
       "(0.600001424605, 0.949999790681)"
      ]
     },
     "execution_count": 19,
     "metadata": {},
     "output_type": "execute_result"
    }
   ],
   "source": [
    "min(data['similarity']), max(data['similarity'])"
   ]
  },
  {
   "cell_type": "markdown",
   "id": "6d6ff63e",
   "metadata": {},
   "source": [
    "### Check the distribution of the max toxity"
   ]
  },
  {
   "cell_type": "code",
   "execution_count": 33,
   "id": "61ba95ae",
   "metadata": {},
   "outputs": [],
   "source": [
    "data['max_tox'] = data[[\"ref_tox\", \"trn_tox\"]].max(axis=1)\n",
    "data['min_tox'] = data[[\"ref_tox\", \"trn_tox\"]].min(axis=1)"
   ]
  },
  {
   "cell_type": "code",
   "execution_count": 34,
   "id": "01207602",
   "metadata": {},
   "outputs": [
    {
     "data": {
      "image/png": "[encoded data removed]",
      "text/plain": [
       "<Figure size 640x480 with 1 Axes>"
      ]
     },
     "metadata": {},
     "output_type": "display_data"
    }
   ],
   "source": [
    "save_figure(data['max_tox'].plot(kind='kde'),\n",
    "            'Distribution of toxity of more toxic sentences from the pairs',\n",
    "            png_name='tox_tox_distribution',\n",
    "            xlim=[min(data['max_tox']), max(data['max_tox'])])"
   ]
  },
  {
   "cell_type": "code",
   "execution_count": 35,
   "id": "0015901d",
   "metadata": {},
   "outputs": [
    {
     "data": {
      "image/png": "[encoded data removed]",
      "text/plain": [
       "<Figure size 640x480 with 1 Axes>"
      ]
     },
     "metadata": {},
     "output_type": "display_data"
    }
   ],
   "source": [
    "save_figure(data['min_tox'].plot(kind='kde'),\n",
    "            'Distribution of toxity of less toxic sentences from the pairs',\n",
    "            png_name='neutral_tox_distribution',\n",
    "            xlim=[min(data['min_tox']), max(data['min_tox'])])"
   ]
  },
  {
   "cell_type": "code",
   "execution_count": 36,
   "id": "22a0e5b7",
   "metadata": {},
   "outputs": [
    {
     "data": {
      "text/plain": [
       "<Axes: ylabel='Density'>"
      ]
     },
     "execution_count": 36,
     "metadata": {},
     "output_type": "execute_result"
    },
    {
     "data": {
      "image/png": "[encoded data removed]",
      "text/plain": [
       "<Figure size 640x480 with 1 Axes>"
      ]
     },
     "metadata": {},
     "output_type": "display_data"
    }
   ],
   "source": [
    "data['lenght_diff'].plot(kind='kde')"
   ]
  },
  {
   "cell_type": "code",
   "execution_count": null,
   "id": "8385a865",
   "metadata": {},
   "outputs": [],
   "source": []
  }
 ],
 "metadata": {
  "kernelspec": {
   "display_name": "Python 3 (ipykernel)",
   "language": "python",
   "name": "python3"
  },
  "language_info": {
   "codemirror_mode": {
    "name": "ipython",
    "version": 3
   },
   "file_extension": ".py",
   "mimetype": "text/x-python",
   "name": "python",
   "nbconvert_exporter": "python",
   "pygments_lexer": "ipython3",
   "version": "3.10.9"
  }
 },
 "nbformat": 4,
 "nbformat_minor": 5
}
